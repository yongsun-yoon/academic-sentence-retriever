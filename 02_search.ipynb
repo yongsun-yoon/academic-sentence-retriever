{
  "nbformat": 4,
  "nbformat_minor": 0,
  "metadata": {
    "colab": {
      "provenance": [],
      "mount_file_id": "18KPKRZDtnpfFg3KoJgIetSXeFQLPRsLF",
      "authorship_tag": "ABX9TyMW45q7WYDr+54Ex1Uz+y4a",
      "include_colab_link": true
    },
    "kernelspec": {
      "name": "python3",
      "display_name": "Python 3"
    },
    "language_info": {
      "name": "python"
    }
  },
  "cells": [
    {
      "cell_type": "markdown",
      "metadata": {
        "id": "view-in-github",
        "colab_type": "text"
      },
      "source": [
        "<a href=\"https://colab.research.google.com/github/yongsun-yoon/academic-sentence-retriever/blob/main/02_search.ipynb\" target=\"_parent\"><img src=\"https://colab.research.google.com/assets/colab-badge.svg\" alt=\"Open In Colab\"/></a>"
      ]
    },
    {
      "cell_type": "markdown",
      "source": [
        "# Search"
      ],
      "metadata": {
        "id": "i_mQt9SnTRlp"
      }
    },
    {
      "cell_type": "markdown",
      "source": [
        "## 1. Setup"
      ],
      "metadata": {
        "id": "hVM1v4U5TS6H"
      }
    },
    {
      "cell_type": "code",
      "execution_count": null,
      "metadata": {
        "id": "MeWH19Buljon"
      },
      "outputs": [],
      "source": [
        "!pip install -q transformers faiss-cpu"
      ]
    },
    {
      "cell_type": "code",
      "source": [
        "import faiss\n",
        "import sqlite3\n",
        "import easydict\n",
        "import pandas as pd\n",
        "\n",
        "import torch\n",
        "import torch.nn as nn\n",
        "import torch.nn.functional as F\n",
        "from transformers import AutoTokenizer, AutoModel"
      ],
      "metadata": {
        "id": "rRWq6qLNls8z"
      },
      "execution_count": null,
      "outputs": []
    },
    {
      "cell_type": "code",
      "source": [
        "cfg = easydict.EasyDict(\n",
        "    basedir = '/content/drive/MyDrive/project/academic-sentence-retriever',\n",
        "    topk = 30,\n",
        ")"
      ],
      "metadata": {
        "id": "KN3Ase6tThlJ"
      },
      "execution_count": null,
      "outputs": []
    },
    {
      "cell_type": "markdown",
      "source": [
        "## 2. Search"
      ],
      "metadata": {
        "id": "YWcxPdK_Tdhb"
      }
    },
    {
      "cell_type": "code",
      "source": [
        "def mean_pooling(token_embeddings, attention_mask):\n",
        "    input_mask_expanded = attention_mask.unsqueeze(-1).expand(token_embeddings.size()).float()\n",
        "    return torch.sum(token_embeddings * input_mask_expanded, 1) / torch.clamp(input_mask_expanded.sum(1), min=1e-9)\n",
        "\n",
        "def encode(model, tokenizer, sentences, batch_size=16, max_length=256):\n",
        "    inputs = tokenizer(sentences, padding=True, truncation=True, max_length=max_length, return_tensors='pt')\n",
        "    outputs = model(**inputs).last_hidden_state\n",
        "    embeds = mean_pooling(outputs, inputs.attention_mask)\n",
        "    embeds = F.normalize(embeds, p=2, dim=1)\n",
        "    return embeds"
      ],
      "metadata": {
        "id": "R-nBpU2M_yUC"
      },
      "execution_count": null,
      "outputs": []
    },
    {
      "cell_type": "code",
      "source": [
        "conn = sqlite3.connect(f'{cfg.basedir}/data.sqlite')\n",
        "cursor = conn.cursor()\n",
        "index = faiss.read_index(f'{cfg.basedir}/data.faiss')\n",
        "\n",
        "cursor.execute('SELECT COUNT(*) FROM sents')\n",
        "num_sents = cursor.fetchone()[0]\n",
        "print(num_sents)"
      ],
      "metadata": {
        "id": "3CA3uZlOlwtU"
      },
      "execution_count": null,
      "outputs": []
    },
    {
      "cell_type": "code",
      "source": [
        "model_path = f'{cfg.basedir}/model'\n",
        "tokenizer = AutoTokenizer.from_pretrained(model_path)\n",
        "model = AutoModel.from_pretrained(model_path, trust_remote_code=True)\n",
        "_ = model.eval().requires_grad_(False)"
      ],
      "metadata": {
        "id": "DscdtrapTgvB"
      },
      "execution_count": null,
      "outputs": []
    },
    {
      "cell_type": "code",
      "source": [
        "query = '성능이 향상되었다.'\n",
        "query_embed = encode(model, tokenizer, query)\n",
        "\n",
        "D, I = index.search(query_embed, cfg.topk)\n",
        "indices = I[0].tolist()\n",
        "\n",
        "where_clause = \" OR \".join([\"id = ?\" for _ in indices])\n",
        "cursor.execute(f\"SELECT * FROM sents WHERE {where_clause}\", indices)\n",
        "results = cursor.fetchall()"
      ],
      "metadata": {
        "id": "mQZt2RNEmhIZ"
      },
      "execution_count": null,
      "outputs": []
    },
    {
      "cell_type": "code",
      "source": [
        "ranking = {i:idx for idx, i in enumerate(indices)}\n",
        "\n",
        "results = pd.DataFrame(results)\n",
        "results.columns = ['id', 'sent', 'arxiv_id']\n",
        "results['rank'] = results['id'].map(ranking)\n",
        "results = results.sort_values('rank')"
      ],
      "metadata": {
        "id": "13ZNEwndVN8e"
      },
      "execution_count": null,
      "outputs": []
    },
    {
      "cell_type": "code",
      "source": [
        "for row in results.itertuples():\n",
        "    print(f'{row.rank:02d} | {row.arxiv_id} | {row.sent}')\n",
        "    print('-'*50)"
      ],
      "metadata": {
        "id": "RKFTEwiGVEy9"
      },
      "execution_count": null,
      "outputs": []
    },
    {
      "cell_type": "code",
      "source": [],
      "metadata": {
        "id": "nlzcpFNyV6fy"
      },
      "execution_count": null,
      "outputs": []
    }
  ]
}